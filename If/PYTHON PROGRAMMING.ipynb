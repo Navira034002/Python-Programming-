{
 "cells": [
  {
   "cell_type": "code",
   "execution_count": 1,
   "metadata": {},
   "outputs": [
    {
     "name": "stdout",
     "output_type": "stream",
     "text": [
      "Pergi ke Richeese Factory\n"
     ]
    }
   ],
   "source": [
    "lapar = True \n",
    "haus = False \n",
    "\n",
    "if lapar == True: # execute this line If lapar is True \n",
    "    if haus == True: #if lapar and haus are True \n",
    "        print('Pergi ke McDonald') \n",
    "    else: # If lapar True, haus False \n",
    "        print('Pergi ke Richeese Factory') \n",
    "else: # execute this If lapar is False \n",
    "    if haus == False: \n",
    "        print('Pergi ke Starbucks') \n",
    "    else: \n",
    "        print('tidak pergi') "
   ]
  },
  {
   "cell_type": "code",
   "execution_count": 5,
   "metadata": {},
   "outputs": [
    {
     "name": "stdout",
     "output_type": "stream",
     "text": [
      "Pergi ke Starbucks\n"
     ]
    }
   ],
   "source": [
    "lapar = False \n",
    "haus = False \n",
    "\n",
    "if lapar == True: # execute this line If lapar is True \n",
    "    if haus == True: #if lapar and haus are True \n",
    "        print('Pergi ke McDonald') \n",
    "    else: # If lapar True, haus False \n",
    "        print('Pergi ke Richeese Factory') \n",
    "else: # execute this If lapar is False \n",
    "    if haus == False: \n",
    "        print('Pergi ke Starbucks') \n",
    "    else: \n",
    "        print('tidak pergi') "
   ]
  },
  {
   "cell_type": "code",
   "execution_count": 6,
   "metadata": {},
   "outputs": [
    {
     "name": "stdout",
     "output_type": "stream",
     "text": [
      "Pergi ke McDonald\n"
     ]
    }
   ],
   "source": [
    "lapar = True \n",
    "haus = True \n",
    "\n",
    "if lapar == True: # execute this line If lapar is True \n",
    "    if haus == True: #if lapar and haus are True \n",
    "        print('Pergi ke McDonald') \n",
    "    else: # If lapar True, haus False \n",
    "        print('Pergi ke Richeese Factory') \n",
    "else: # execute this If lapar is False \n",
    "    if haus == False: \n",
    "        print('Pergi ke Starbucks') \n",
    "    else: \n",
    "        print('tidak pergi') "
   ]
  },
  {
   "cell_type": "code",
   "execution_count": 7,
   "metadata": {},
   "outputs": [
    {
     "name": "stdout",
     "output_type": "stream",
     "text": [
      "tidak pergi\n"
     ]
    }
   ],
   "source": [
    "lapar = False \n",
    "haus = True \n",
    "\n",
    "if lapar == True: # execute this line If lapar is True \n",
    "    if haus == True: #if lapar and haus are True \n",
    "        print('Pergi ke McDonald') \n",
    "    else: # If lapar True, haus False \n",
    "        print('Pergi ke Richeese Factory') \n",
    "else: # execute this If lapar is False \n",
    "    if haus == False: \n",
    "        print('Pergi ke Starbucks') \n",
    "    else: \n",
    "        print('tidak pergi') "
   ]
  },
  {
   "cell_type": "code",
   "execution_count": 4,
   "metadata": {},
   "outputs": [
    {
     "name": "stdout",
     "output_type": "stream",
     "text": [
      "Makan di Burger King\n"
     ]
    }
   ],
   "source": [
    "uang =100 \n",
    "if uang >= 15 and uang <=35: \n",
    "    print ('Makan di RM Padang') \n",
    "elif uang >=35 and uang <=60: \n",
    "    print ('Makan di Swiwings') \n",
    "elif uang >=75 and uang <=110: \n",
    "    print ('Makan di Burger King') \n",
    "elif uang >110: \n",
    "    print('Makan di Richeese Factory') \n",
    "else: \n",
    "    print ('Makan di Kantin')  "
   ]
  },
  {
   "cell_type": "code",
   "execution_count": 8,
   "metadata": {},
   "outputs": [
    {
     "name": "stdout",
     "output_type": "stream",
     "text": [
      "Makan di RM Padang\n"
     ]
    }
   ],
   "source": [
    "uang =24 \n",
    "if uang >= 15 and uang <=35: \n",
    "    print ('Makan di RM Padang') \n",
    "elif uang >=35 and uang <=60: \n",
    "    print ('Makan di Swiwings') \n",
    "elif uang >=75 and uang <=110: \n",
    "    print ('Makan di Burger King') \n",
    "elif uang >110: \n",
    "    print('Makan di Richeese Factory') \n",
    "else: \n",
    "    print ('Makan di Kantin')  "
   ]
  },
  {
   "cell_type": "code",
   "execution_count": 9,
   "metadata": {},
   "outputs": [
    {
     "name": "stdout",
     "output_type": "stream",
     "text": [
      "Makan di Richeese Factory\n"
     ]
    }
   ],
   "source": [
    "uang =120\n",
    "if uang >= 15 and uang <=35: \n",
    "    print ('Makan di RM Padang') \n",
    "elif uang >=35 and uang <=60: \n",
    "    print ('Makan di Swiwings') \n",
    "elif uang >=75 and uang <=110: \n",
    "    print ('Makan di Burger King') \n",
    "elif uang >110: \n",
    "    print('Makan di Richeese Factory') \n",
    "else: \n",
    "    print ('Makan di Kantin')  "
   ]
  },
  {
   "cell_type": "code",
   "execution_count": null,
   "metadata": {},
   "outputs": [],
   "source": []
  }
 ],
 "metadata": {
  "kernelspec": {
   "display_name": "Python 3",
   "language": "python",
   "name": "python3"
  },
  "language_info": {
   "codemirror_mode": {
    "name": "ipython",
    "version": 3
   },
   "file_extension": ".py",
   "mimetype": "text/x-python",
   "name": "python",
   "nbconvert_exporter": "python",
   "pygments_lexer": "ipython3",
   "version": "3.7.4"
  }
 },
 "nbformat": 4,
 "nbformat_minor": 2
}
